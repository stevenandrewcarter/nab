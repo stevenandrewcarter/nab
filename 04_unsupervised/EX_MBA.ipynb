{
 "cells": [
  {
   "cell_type": "code",
   "execution_count": 2,
   "metadata": {},
   "outputs": [],
   "source": [
    "import pandas as pd"
   ]
  },
  {
   "cell_type": "code",
   "execution_count": 3,
   "metadata": {},
   "outputs": [],
   "source": [
    "df = pd.read_csv('data/small_cust.csv')"
   ]
  },
  {
   "cell_type": "code",
   "execution_count": 10,
   "metadata": {},
   "outputs": [
    {
     "data": {
      "text/html": [
       "<div>\n",
       "<style scoped>\n",
       "    .dataframe tbody tr th:only-of-type {\n",
       "        vertical-align: middle;\n",
       "    }\n",
       "\n",
       "    .dataframe tbody tr th {\n",
       "        vertical-align: top;\n",
       "    }\n",
       "\n",
       "    .dataframe thead th {\n",
       "        text-align: right;\n",
       "    }\n",
       "</style>\n",
       "<table border=\"1\" class=\"dataframe\">\n",
       "  <thead>\n",
       "    <tr style=\"text-align: right;\">\n",
       "      <th></th>\n",
       "      <th>CustomerID</th>\n",
       "      <th>Recency</th>\n",
       "      <th>Frequency</th>\n",
       "      <th>Monetary</th>\n",
       "    </tr>\n",
       "  </thead>\n",
       "  <tbody>\n",
       "    <tr>\n",
       "      <th>0</th>\n",
       "      <td>12821</td>\n",
       "      <td>215</td>\n",
       "      <td>6</td>\n",
       "      <td>92.72</td>\n",
       "    </tr>\n",
       "    <tr>\n",
       "      <th>1</th>\n",
       "      <td>12823</td>\n",
       "      <td>75</td>\n",
       "      <td>5</td>\n",
       "      <td>1759.50</td>\n",
       "    </tr>\n",
       "    <tr>\n",
       "      <th>2</th>\n",
       "      <td>12829</td>\n",
       "      <td>337</td>\n",
       "      <td>11</td>\n",
       "      <td>293.00</td>\n",
       "    </tr>\n",
       "    <tr>\n",
       "      <th>3</th>\n",
       "      <td>12831</td>\n",
       "      <td>263</td>\n",
       "      <td>9</td>\n",
       "      <td>215.05</td>\n",
       "    </tr>\n",
       "    <tr>\n",
       "      <th>4</th>\n",
       "      <td>12833</td>\n",
       "      <td>146</td>\n",
       "      <td>24</td>\n",
       "      <td>417.38</td>\n",
       "    </tr>\n",
       "  </tbody>\n",
       "</table>\n",
       "</div>"
      ],
      "text/plain": [
       "   CustomerID  Recency  Frequency  Monetary\n",
       "0       12821      215          6     92.72\n",
       "1       12823       75          5   1759.50\n",
       "2       12829      337         11    293.00\n",
       "3       12831      263          9    215.05\n",
       "4       12833      146         24    417.38"
      ]
     },
     "execution_count": 10,
     "metadata": {},
     "output_type": "execute_result"
    }
   ],
   "source": [
    "df.head()"
   ]
  },
  {
   "cell_type": "code",
   "execution_count": 11,
   "metadata": {},
   "outputs": [
    {
     "name": "stdout",
     "output_type": "stream",
     "text": [
      "Shape (1330, 4)\n",
      "Frequency 18968\n"
     ]
    },
    {
     "data": {
      "text/html": [
       "<div>\n",
       "<style scoped>\n",
       "    .dataframe tbody tr th:only-of-type {\n",
       "        vertical-align: middle;\n",
       "    }\n",
       "\n",
       "    .dataframe tbody tr th {\n",
       "        vertical-align: top;\n",
       "    }\n",
       "\n",
       "    .dataframe thead th {\n",
       "        text-align: right;\n",
       "    }\n",
       "</style>\n",
       "<table border=\"1\" class=\"dataframe\">\n",
       "  <thead>\n",
       "    <tr style=\"text-align: right;\">\n",
       "      <th></th>\n",
       "      <th>CustomerID</th>\n",
       "      <th>Recency</th>\n",
       "      <th>Frequency</th>\n",
       "      <th>Monetary</th>\n",
       "    </tr>\n",
       "  </thead>\n",
       "  <tbody>\n",
       "    <tr>\n",
       "      <th>count</th>\n",
       "      <td>1330.000000</td>\n",
       "      <td>1330.000000</td>\n",
       "      <td>1330.000000</td>\n",
       "      <td>1330.000000</td>\n",
       "    </tr>\n",
       "    <tr>\n",
       "      <th>mean</th>\n",
       "      <td>15579.158647</td>\n",
       "      <td>162.975940</td>\n",
       "      <td>14.261654</td>\n",
       "      <td>284.403805</td>\n",
       "    </tr>\n",
       "    <tr>\n",
       "      <th>std</th>\n",
       "      <td>1609.583204</td>\n",
       "      <td>101.550624</td>\n",
       "      <td>10.738528</td>\n",
       "      <td>260.907356</td>\n",
       "    </tr>\n",
       "    <tr>\n",
       "      <th>min</th>\n",
       "      <td>12821.000000</td>\n",
       "      <td>2.000000</td>\n",
       "      <td>1.000000</td>\n",
       "      <td>3.750000</td>\n",
       "    </tr>\n",
       "    <tr>\n",
       "      <th>25%</th>\n",
       "      <td>14174.500000</td>\n",
       "      <td>68.000000</td>\n",
       "      <td>7.000000</td>\n",
       "      <td>142.400000</td>\n",
       "    </tr>\n",
       "    <tr>\n",
       "      <th>50%</th>\n",
       "      <td>15566.000000</td>\n",
       "      <td>160.000000</td>\n",
       "      <td>12.000000</td>\n",
       "      <td>223.865000</td>\n",
       "    </tr>\n",
       "    <tr>\n",
       "      <th>75%</th>\n",
       "      <td>16987.500000</td>\n",
       "      <td>250.000000</td>\n",
       "      <td>20.000000</td>\n",
       "      <td>344.710000</td>\n",
       "    </tr>\n",
       "    <tr>\n",
       "      <th>max</th>\n",
       "      <td>18282.000000</td>\n",
       "      <td>363.000000</td>\n",
       "      <td>77.000000</td>\n",
       "      <td>4055.720000</td>\n",
       "    </tr>\n",
       "  </tbody>\n",
       "</table>\n",
       "</div>"
      ],
      "text/plain": [
       "         CustomerID      Recency    Frequency     Monetary\n",
       "count   1330.000000  1330.000000  1330.000000  1330.000000\n",
       "mean   15579.158647   162.975940    14.261654   284.403805\n",
       "std     1609.583204   101.550624    10.738528   260.907356\n",
       "min    12821.000000     2.000000     1.000000     3.750000\n",
       "25%    14174.500000    68.000000     7.000000   142.400000\n",
       "50%    15566.000000   160.000000    12.000000   223.865000\n",
       "75%    16987.500000   250.000000    20.000000   344.710000\n",
       "max    18282.000000   363.000000    77.000000  4055.720000"
      ]
     },
     "execution_count": 11,
     "metadata": {},
     "output_type": "execute_result"
    }
   ],
   "source": [
    "print(\"Shape\", df.shape)\n",
    "print(\"Frequency\", sum(df.Frequency))\n",
    "df.describe()"
   ]
  },
  {
   "cell_type": "code",
   "execution_count": 12,
   "metadata": {},
   "outputs": [],
   "source": [
    "tr = pd.read_csv(\"data/retail.csv\")"
   ]
  },
  {
   "cell_type": "code",
   "execution_count": 13,
   "metadata": {},
   "outputs": [],
   "source": [
    "tf_f = tr[tr['CustomerID'].isin(df.CustomerID)]"
   ]
  },
  {
   "cell_type": "code",
   "execution_count": 15,
   "metadata": {},
   "outputs": [
    {
     "name": "stdout",
     "output_type": "stream",
     "text": [
      "(18968, 8)\n",
      "Frequency equals number of customers? True\n"
     ]
    }
   ],
   "source": [
    "print(tf_f.shape)\n",
    "print(\"Frequency equals number of customers?\", tf_f.shape[0] == sum(df.Frequency))"
   ]
  },
  {
   "cell_type": "code",
   "execution_count": 16,
   "metadata": {},
   "outputs": [
    {
     "name": "stderr",
     "output_type": "stream",
     "text": [
      "/tmp/ipykernel_6976/2473024476.py:1: SettingWithCopyWarning: \n",
      "A value is trying to be set on a copy of a slice from a DataFrame.\n",
      "Try using .loc[row_indexer,col_indexer] = value instead\n",
      "\n",
      "See the caveats in the documentation: https://pandas.pydata.org/pandas-docs/stable/user_guide/indexing.html#returning-a-view-versus-a-copy\n",
      "  tf_f['Description'] = tf_f['Description'].str.strip()\n",
      "/tmp/ipykernel_6976/2473024476.py:2: SettingWithCopyWarning: \n",
      "A value is trying to be set on a copy of a slice from a DataFrame.\n",
      "Try using .loc[row_indexer,col_indexer] = value instead\n",
      "\n",
      "See the caveats in the documentation: https://pandas.pydata.org/pandas-docs/stable/user_guide/indexing.html#returning-a-view-versus-a-copy\n",
      "  tf_f['InvoiceNo'] = tf_f['InvoiceNo'].astype(str)\n"
     ]
    }
   ],
   "source": [
    "tf_f['Description'] = tf_f['Description'].str.strip()\n",
    "tf_f['InvoiceNo'] = tf_f['InvoiceNo'].astype(str)"
   ]
  },
  {
   "cell_type": "code",
   "execution_count": 17,
   "metadata": {},
   "outputs": [],
   "source": [
    "basket = (tf_f.groupby(['InvoiceNo','Description'])['Quantity'].sum().unstack().reset_index().fillna(0).set_index('InvoiceNo'))"
   ]
  },
  {
   "cell_type": "code",
   "execution_count": 18,
   "metadata": {},
   "outputs": [],
   "source": [
    "basket.drop('POSTAGE', inplace=True, axis=1)"
   ]
  },
  {
   "cell_type": "code",
   "execution_count": 20,
   "metadata": {},
   "outputs": [],
   "source": [
    "from mlxtend.frequent_patterns import apriori\n",
    "from mlxtend.frequent_patterns import association_rules"
   ]
  },
  {
   "cell_type": "code",
   "execution_count": 21,
   "metadata": {},
   "outputs": [
    {
     "name": "stderr",
     "output_type": "stream",
     "text": [
      "/tmp/ipykernel_6976/1887240822.py:7: FutureWarning: DataFrame.applymap has been deprecated. Use DataFrame.map instead.\n",
      "  basket_sets = basket.applymap(encode_units)\n"
     ]
    }
   ],
   "source": [
    "def encode_units(x):\n",
    "     if x <= 0:\n",
    "         return 0\n",
    "     if x >= 1:\n",
    "         return 1\n",
    "\n",
    "basket_sets = basket.applymap(encode_units)"
   ]
  },
  {
   "cell_type": "code",
   "execution_count": 22,
   "metadata": {},
   "outputs": [
    {
     "name": "stderr",
     "output_type": "stream",
     "text": [
      "/home/codespace/.python/current/lib/python3.10/site-packages/mlxtend/frequent_patterns/fpcommon.py:109: DeprecationWarning: DataFrames with non-bool types result in worse computationalperformance and their support might be discontinued in the future.Please use a DataFrame with bool type\n",
      "  warnings.warn(\n"
     ]
    }
   ],
   "source": [
    "frequent_itemsets = apriori(basket_sets, min_support=0.01, use_colnames=True)"
   ]
  },
  {
   "cell_type": "code",
   "execution_count": 23,
   "metadata": {},
   "outputs": [],
   "source": [
    "rules = association_rules(frequent_itemsets, metric=\"lift\", min_threshold=1)"
   ]
  },
  {
   "cell_type": "code",
   "execution_count": 24,
   "metadata": {},
   "outputs": [
    {
     "data": {
      "text/html": [
       "<div>\n",
       "<style scoped>\n",
       "    .dataframe tbody tr th:only-of-type {\n",
       "        vertical-align: middle;\n",
       "    }\n",
       "\n",
       "    .dataframe tbody tr th {\n",
       "        vertical-align: top;\n",
       "    }\n",
       "\n",
       "    .dataframe thead th {\n",
       "        text-align: right;\n",
       "    }\n",
       "</style>\n",
       "<table border=\"1\" class=\"dataframe\">\n",
       "  <thead>\n",
       "    <tr style=\"text-align: right;\">\n",
       "      <th></th>\n",
       "      <th>antecedents</th>\n",
       "      <th>consequents</th>\n",
       "      <th>antecedent support</th>\n",
       "      <th>consequent support</th>\n",
       "      <th>support</th>\n",
       "      <th>confidence</th>\n",
       "      <th>lift</th>\n",
       "      <th>leverage</th>\n",
       "      <th>conviction</th>\n",
       "      <th>zhangs_metric</th>\n",
       "    </tr>\n",
       "  </thead>\n",
       "  <tbody>\n",
       "    <tr>\n",
       "      <th>39</th>\n",
       "      <td>(PINK REGENCY TEACUP AND SAUCER, ROSES REGENCY...</td>\n",
       "      <td>(GREEN REGENCY TEACUP AND SAUCER)</td>\n",
       "      <td>0.016356</td>\n",
       "      <td>0.031021</td>\n",
       "      <td>0.014664</td>\n",
       "      <td>0.896552</td>\n",
       "      <td>28.901567</td>\n",
       "      <td>0.014157</td>\n",
       "      <td>9.366798</td>\n",
       "      <td>0.981453</td>\n",
       "    </tr>\n",
       "    <tr>\n",
       "      <th>8</th>\n",
       "      <td>(PINK REGENCY TEACUP AND SAUCER)</td>\n",
       "      <td>(GREEN REGENCY TEACUP AND SAUCER)</td>\n",
       "      <td>0.024253</td>\n",
       "      <td>0.031021</td>\n",
       "      <td>0.019741</td>\n",
       "      <td>0.813953</td>\n",
       "      <td>26.238901</td>\n",
       "      <td>0.018988</td>\n",
       "      <td>5.208263</td>\n",
       "      <td>0.985797</td>\n",
       "    </tr>\n",
       "    <tr>\n",
       "      <th>32</th>\n",
       "      <td>(PINK REGENCY TEACUP AND SAUCER, REGENCY CAKES...</td>\n",
       "      <td>(GREEN REGENCY TEACUP AND SAUCER)</td>\n",
       "      <td>0.014664</td>\n",
       "      <td>0.031021</td>\n",
       "      <td>0.011844</td>\n",
       "      <td>0.807692</td>\n",
       "      <td>26.037063</td>\n",
       "      <td>0.011389</td>\n",
       "      <td>5.038691</td>\n",
       "      <td>0.975904</td>\n",
       "    </tr>\n",
       "    <tr>\n",
       "      <th>2</th>\n",
       "      <td>(BAKING SET SPACEBOY DESIGN)</td>\n",
       "      <td>(BAKING SET 9 PIECE RETROSPOT)</td>\n",
       "      <td>0.019741</td>\n",
       "      <td>0.042865</td>\n",
       "      <td>0.015792</td>\n",
       "      <td>0.800000</td>\n",
       "      <td>18.663158</td>\n",
       "      <td>0.014946</td>\n",
       "      <td>4.785674</td>\n",
       "      <td>0.965478</td>\n",
       "    </tr>\n",
       "    <tr>\n",
       "      <th>0</th>\n",
       "      <td>(PAINTED METAL PEARS ASSORTED)</td>\n",
       "      <td>(ASSORTED COLOUR BIRD ORNAMENT)</td>\n",
       "      <td>0.023689</td>\n",
       "      <td>0.050197</td>\n",
       "      <td>0.019177</td>\n",
       "      <td>0.809524</td>\n",
       "      <td>16.126806</td>\n",
       "      <td>0.017987</td>\n",
       "      <td>4.986464</td>\n",
       "      <td>0.960750</td>\n",
       "    </tr>\n",
       "  </tbody>\n",
       "</table>\n",
       "</div>"
      ],
      "text/plain": [
       "                                          antecedents  \\\n",
       "39  (PINK REGENCY TEACUP AND SAUCER, ROSES REGENCY...   \n",
       "8                    (PINK REGENCY TEACUP AND SAUCER)   \n",
       "32  (PINK REGENCY TEACUP AND SAUCER, REGENCY CAKES...   \n",
       "2                        (BAKING SET SPACEBOY DESIGN)   \n",
       "0                      (PAINTED METAL PEARS ASSORTED)   \n",
       "\n",
       "                          consequents  antecedent support  consequent support  \\\n",
       "39  (GREEN REGENCY TEACUP AND SAUCER)            0.016356            0.031021   \n",
       "8   (GREEN REGENCY TEACUP AND SAUCER)            0.024253            0.031021   \n",
       "32  (GREEN REGENCY TEACUP AND SAUCER)            0.014664            0.031021   \n",
       "2      (BAKING SET 9 PIECE RETROSPOT)            0.019741            0.042865   \n",
       "0     (ASSORTED COLOUR BIRD ORNAMENT)            0.023689            0.050197   \n",
       "\n",
       "     support  confidence       lift  leverage  conviction  zhangs_metric  \n",
       "39  0.014664    0.896552  28.901567  0.014157    9.366798       0.981453  \n",
       "8   0.019741    0.813953  26.238901  0.018988    5.208263       0.985797  \n",
       "32  0.011844    0.807692  26.037063  0.011389    5.038691       0.975904  \n",
       "2   0.015792    0.800000  18.663158  0.014946    4.785674       0.965478  \n",
       "0   0.019177    0.809524  16.126806  0.017987    4.986464       0.960750  "
      ]
     },
     "execution_count": 24,
     "metadata": {},
     "output_type": "execute_result"
    }
   ],
   "source": [
    "rules[ (rules['lift'] >= 6) &\n",
    "        (rules['confidence'] >= 0.8) ].sort_values(['lift','confidence'], ascending=False)"
   ]
  }
 ],
 "metadata": {
  "kernelspec": {
   "display_name": "Python 3",
   "language": "python",
   "name": "python3"
  },
  "language_info": {
   "codemirror_mode": {
    "name": "ipython",
    "version": 3
   },
   "file_extension": ".py",
   "mimetype": "text/x-python",
   "name": "python",
   "nbconvert_exporter": "python",
   "pygments_lexer": "ipython3",
   "version": "3.10.13"
  }
 },
 "nbformat": 4,
 "nbformat_minor": 2
}
