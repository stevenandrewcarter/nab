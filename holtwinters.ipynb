{
 "cells": [
  {
   "cell_type": "markdown",
   "id": "5c1286c5",
   "metadata": {
    "papermill": {
     "duration": 0.003237,
     "end_time": "2023-05-01T04:06:20.960528",
     "exception": false,
     "start_time": "2023-05-01T04:06:20.957291",
     "status": "completed"
    },
    "tags": []
   },
   "source": [
    "# Holt Winters\n",
    "Implement Holt Winters approach to the NAB dataset. Holt Winters technique will forecast the next possible output for a given series of data. It will not be good at dealing with chaotic datasets."
   ]
  },
  {
   "cell_type": "code",
   "execution_count": 1,
   "id": "d4515c07",
   "metadata": {
    "_cell_guid": "b1076dfc-b9ad-4769-8c92-a6c4dae69d19",
    "_uuid": "8f2839f25d086af736a60e9eeb907d3b93b6e0e5",
    "execution": {
     "iopub.execute_input": "2023-05-01T04:06:20.967852Z",
     "iopub.status.busy": "2023-05-01T04:06:20.966995Z",
     "iopub.status.idle": "2023-05-01T04:06:21.045917Z",
     "shell.execute_reply": "2023-05-01T04:06:21.044649Z"
    },
    "papermill": {
     "duration": 0.086929,
     "end_time": "2023-05-01T04:06:21.049786",
     "exception": false,
     "start_time": "2023-05-01T04:06:20.962857",
     "status": "completed"
    },
    "tags": []
   },
   "outputs": [
    {
     "name": "stdout",
     "output_type": "stream",
     "text": [
      "/kaggle/input/nab/README.md\n",
      "/kaggle/input/nab/realKnownCause/realKnownCause/rogue_agent_key_updown.csv\n",
      "/kaggle/input/nab/realKnownCause/realKnownCause/ec2_request_latency_system_failure.csv\n",
      "/kaggle/input/nab/realKnownCause/realKnownCause/ambient_temperature_system_failure.csv\n",
      "/kaggle/input/nab/realKnownCause/realKnownCause/nyc_taxi.csv\n",
      "/kaggle/input/nab/realKnownCause/realKnownCause/rogue_agent_key_hold.csv\n",
      "/kaggle/input/nab/realKnownCause/realKnownCause/machine_temperature_system_failure.csv\n",
      "/kaggle/input/nab/realKnownCause/realKnownCause/cpu_utilization_asg_misconfiguration.csv\n",
      "/kaggle/input/nab/realTraffic/realTraffic/TravelTime_387.csv\n",
      "/kaggle/input/nab/realTraffic/realTraffic/speed_6005.csv\n",
      "/kaggle/input/nab/realTraffic/realTraffic/speed_t4013.csv\n",
      "/kaggle/input/nab/realTraffic/realTraffic/occupancy_t4013.csv\n",
      "/kaggle/input/nab/realTraffic/realTraffic/speed_7578.csv\n",
      "/kaggle/input/nab/realTraffic/realTraffic/occupancy_6005.csv\n",
      "/kaggle/input/nab/realTraffic/realTraffic/TravelTime_451.csv\n",
      "/kaggle/input/nab/realTraffic/realTraffic/.DS_Store\n",
      "/kaggle/input/nab/realTraffic/__MACOSX/realTraffic/._speed_6005.csv\n",
      "/kaggle/input/nab/realTraffic/__MACOSX/realTraffic/._occupancy_6005.csv\n",
      "/kaggle/input/nab/realTraffic/__MACOSX/realTraffic/._.DS_Store\n",
      "/kaggle/input/nab/artificialNoAnomaly/artificialNoAnomaly/art_daily_no_noise.csv\n",
      "/kaggle/input/nab/artificialNoAnomaly/artificialNoAnomaly/art_noisy.csv\n",
      "/kaggle/input/nab/artificialNoAnomaly/artificialNoAnomaly/art_daily_small_noise.csv\n",
      "/kaggle/input/nab/artificialNoAnomaly/artificialNoAnomaly/art_flatline.csv\n",
      "/kaggle/input/nab/artificialNoAnomaly/artificialNoAnomaly/art_daily_perfect_square_wave.csv\n",
      "/kaggle/input/nab/artificialWithAnomaly/artificialWithAnomaly/art_daily_flatmiddle.csv\n",
      "/kaggle/input/nab/artificialWithAnomaly/artificialWithAnomaly/art_increase_spike_density.csv\n",
      "/kaggle/input/nab/artificialWithAnomaly/artificialWithAnomaly/art_daily_jumpsup.csv\n",
      "/kaggle/input/nab/artificialWithAnomaly/artificialWithAnomaly/art_daily_nojump.csv\n",
      "/kaggle/input/nab/artificialWithAnomaly/artificialWithAnomaly/art_load_balancer_spikes.csv\n",
      "/kaggle/input/nab/artificialWithAnomaly/artificialWithAnomaly/art_daily_jumpsdown.csv\n",
      "/kaggle/input/nab/realAWSCloudwatch/realAWSCloudwatch/elb_request_count_8c0756.csv\n",
      "/kaggle/input/nab/realAWSCloudwatch/realAWSCloudwatch/ec2_cpu_utilization_53ea38.csv\n",
      "/kaggle/input/nab/realAWSCloudwatch/realAWSCloudwatch/iio_us-east-1_i-a2eb1cd9_NetworkIn.csv\n",
      "/kaggle/input/nab/realAWSCloudwatch/realAWSCloudwatch/ec2_cpu_utilization_5f5533.csv\n",
      "/kaggle/input/nab/realAWSCloudwatch/realAWSCloudwatch/ec2_cpu_utilization_ac20cd.csv\n",
      "/kaggle/input/nab/realAWSCloudwatch/realAWSCloudwatch/ec2_cpu_utilization_24ae8d.csv\n",
      "/kaggle/input/nab/realAWSCloudwatch/realAWSCloudwatch/ec2_disk_write_bytes_c0d644.csv\n",
      "/kaggle/input/nab/realAWSCloudwatch/realAWSCloudwatch/ec2_network_in_257a54.csv\n",
      "/kaggle/input/nab/realAWSCloudwatch/realAWSCloudwatch/ec2_cpu_utilization_fe7f93.csv\n",
      "/kaggle/input/nab/realAWSCloudwatch/realAWSCloudwatch/ec2_cpu_utilization_c6585a.csv\n",
      "/kaggle/input/nab/realAWSCloudwatch/realAWSCloudwatch/ec2_disk_write_bytes_1ef3de.csv\n",
      "/kaggle/input/nab/realAWSCloudwatch/realAWSCloudwatch/ec2_cpu_utilization_77c1ca.csv\n",
      "/kaggle/input/nab/realAWSCloudwatch/realAWSCloudwatch/grok_asg_anomaly.csv\n",
      "/kaggle/input/nab/realAWSCloudwatch/realAWSCloudwatch/ec2_network_in_5abac7.csv\n",
      "/kaggle/input/nab/realAWSCloudwatch/realAWSCloudwatch/rds_cpu_utilization_e47b3b.csv\n",
      "/kaggle/input/nab/realAWSCloudwatch/realAWSCloudwatch/rds_cpu_utilization_cc0c53.csv\n",
      "/kaggle/input/nab/realAWSCloudwatch/realAWSCloudwatch/ec2_cpu_utilization_825cc2.csv\n",
      "/kaggle/input/nab/realTweets/realTweets/Twitter_volume_UPS.csv\n",
      "/kaggle/input/nab/realTweets/realTweets/Twitter_volume_CVS.csv\n",
      "/kaggle/input/nab/realTweets/realTweets/Twitter_volume_PFE.csv\n",
      "/kaggle/input/nab/realTweets/realTweets/Twitter_volume_CRM.csv\n",
      "/kaggle/input/nab/realTweets/realTweets/Twitter_volume_AMZN.csv\n",
      "/kaggle/input/nab/realTweets/realTweets/Twitter_volume_KO.csv\n",
      "/kaggle/input/nab/realTweets/realTweets/Twitter_volume_AAPL.csv\n",
      "/kaggle/input/nab/realTweets/realTweets/Twitter_volume_IBM.csv\n",
      "/kaggle/input/nab/realTweets/realTweets/Twitter_volume_FB.csv\n",
      "/kaggle/input/nab/realTweets/realTweets/Twitter_volume_GOOG.csv\n",
      "/kaggle/input/nab/realAdExchange/realAdExchange/exchange-2_cpm_results.csv\n",
      "/kaggle/input/nab/realAdExchange/realAdExchange/exchange-4_cpc_results.csv\n",
      "/kaggle/input/nab/realAdExchange/realAdExchange/exchange-4_cpm_results.csv\n",
      "/kaggle/input/nab/realAdExchange/realAdExchange/exchange-3_cpc_results.csv\n",
      "/kaggle/input/nab/realAdExchange/realAdExchange/exchange-2_cpc_results.csv\n",
      "/kaggle/input/nab/realAdExchange/realAdExchange/exchange-3_cpm_results.csv\n"
     ]
    }
   ],
   "source": [
    "# This Python 3 environment comes with many helpful analytics libraries installed\n",
    "# It is defined by the kaggle/python Docker image: https://github.com/kaggle/docker-python\n",
    "# For example, here's several helpful packages to load\n",
    "\n",
    "import numpy as np # linear algebra\n",
    "import pandas as pd # data processing, CSV file I/O (e.g. pd.read_csv)\n",
    "\n",
    "# Input data files are available in the read-only \"../input/\" directory\n",
    "# For example, running this (by clicking run or pressing Shift+Enter) will list all files under the input directory\n",
    "\n",
    "import os\n",
    "for dirname, _, filenames in os.walk('/kaggle/input'):\n",
    "    for filename in filenames:\n",
    "        print(os.path.join(dirname, filename))\n",
    "\n",
    "# You can write up to 20GB to the current directory (/kaggle/working/) that gets preserved as output when you create a version using \"Save & Run All\" \n",
    "# You can also write temporary files to /kaggle/temp/, but they won't be saved outside of the current session"
   ]
  },
  {
   "cell_type": "code",
   "execution_count": 2,
   "id": "5ae3a20c",
   "metadata": {
    "execution": {
     "iopub.execute_input": "2023-05-01T04:06:21.057297Z",
     "iopub.status.busy": "2023-05-01T04:06:21.055990Z",
     "iopub.status.idle": "2023-05-01T04:06:21.107264Z",
     "shell.execute_reply": "2023-05-01T04:06:21.105966Z"
    },
    "papermill": {
     "duration": 0.057656,
     "end_time": "2023-05-01T04:06:21.109963",
     "exception": false,
     "start_time": "2023-05-01T04:06:21.052307",
     "status": "completed"
    },
    "tags": []
   },
   "outputs": [
    {
     "data": {
      "text/html": [
       "<div>\n",
       "<style scoped>\n",
       "    .dataframe tbody tr th:only-of-type {\n",
       "        vertical-align: middle;\n",
       "    }\n",
       "\n",
       "    .dataframe tbody tr th {\n",
       "        vertical-align: top;\n",
       "    }\n",
       "\n",
       "    .dataframe thead th {\n",
       "        text-align: right;\n",
       "    }\n",
       "</style>\n",
       "<table border=\"1\" class=\"dataframe\">\n",
       "  <thead>\n",
       "    <tr style=\"text-align: right;\">\n",
       "      <th></th>\n",
       "      <th>value</th>\n",
       "    </tr>\n",
       "    <tr>\n",
       "      <th>timestamp</th>\n",
       "      <th></th>\n",
       "    </tr>\n",
       "  </thead>\n",
       "  <tbody>\n",
       "    <tr>\n",
       "      <th>2014-04-01 00:00:00</th>\n",
       "      <td>20.0</td>\n",
       "    </tr>\n",
       "    <tr>\n",
       "      <th>2014-04-01 00:05:00</th>\n",
       "      <td>20.0</td>\n",
       "    </tr>\n",
       "    <tr>\n",
       "      <th>2014-04-01 00:10:00</th>\n",
       "      <td>20.0</td>\n",
       "    </tr>\n",
       "    <tr>\n",
       "      <th>2014-04-01 00:15:00</th>\n",
       "      <td>20.0</td>\n",
       "    </tr>\n",
       "    <tr>\n",
       "      <th>2014-04-01 00:20:00</th>\n",
       "      <td>20.0</td>\n",
       "    </tr>\n",
       "  </tbody>\n",
       "</table>\n",
       "</div>"
      ],
      "text/plain": [
       "                     value\n",
       "timestamp                 \n",
       "2014-04-01 00:00:00   20.0\n",
       "2014-04-01 00:05:00   20.0\n",
       "2014-04-01 00:10:00   20.0\n",
       "2014-04-01 00:15:00   20.0\n",
       "2014-04-01 00:20:00   20.0"
      ]
     },
     "execution_count": 2,
     "metadata": {},
     "output_type": "execute_result"
    }
   ],
   "source": [
    "# Load a dataset\n",
    "df = pd.read_csv('/kaggle/input/nab/artificialNoAnomaly/artificialNoAnomaly/art_daily_no_noise.csv', index_col='timestamp', parse_dates=True)\n",
    "df.head()"
   ]
  },
  {
   "cell_type": "code",
   "execution_count": 3,
   "id": "d50de455",
   "metadata": {
    "execution": {
     "iopub.execute_input": "2023-05-01T04:06:21.117367Z",
     "iopub.status.busy": "2023-05-01T04:06:21.116597Z",
     "iopub.status.idle": "2023-05-01T04:06:21.579914Z",
     "shell.execute_reply": "2023-05-01T04:06:21.578502Z"
    },
    "papermill": {
     "duration": 0.470105,
     "end_time": "2023-05-01T04:06:21.582684",
     "exception": false,
     "start_time": "2023-05-01T04:06:21.112579",
     "status": "completed"
    },
    "tags": []
   },
   "outputs": [
    {
     "data": {
      "text/plain": [
       "<AxesSubplot:xlabel='timestamp'>"
      ]
     },
     "execution_count": 3,
     "metadata": {},
     "output_type": "execute_result"
    },
    {
     "data": {
      "image/png": "[encoded data removed]",
      "text/plain": [
       "<Figure size 640x480 with 1 Axes>"
      ]
     },
     "metadata": {},
     "output_type": "display_data"
    }
   ],
   "source": [
    "import matplotlib.pyplot as plt\n",
    "df.plot()"
   ]
  },
  {
   "cell_type": "code",
   "execution_count": null,
   "id": "03c985dd",
   "metadata": {
    "papermill": {
     "duration": 0.003075,
     "end_time": "2023-05-01T04:06:21.589148",
     "exception": false,
     "start_time": "2023-05-01T04:06:21.586073",
     "status": "completed"
    },
    "tags": []
   },
   "outputs": [],
   "source": []
  }
 ],
 "metadata": {
  "kernelspec": {
   "display_name": "Python 3",
   "language": "python",
   "name": "python3"
  },
  "language_info": {
   "codemirror_mode": {
    "name": "ipython",
    "version": 3
   },
   "file_extension": ".py",
   "mimetype": "text/x-python",
   "name": "python",
   "nbconvert_exporter": "python",
   "pygments_lexer": "ipython3",
   "version": "3.7.12"
  },
  "papermill": {
   "default_parameters": {},
   "duration": 11.876399,
   "end_time": "2023-05-01T04:06:22.314503",
   "environment_variables": {},
   "exception": null,
   "input_path": "__notebook__.ipynb",
   "output_path": "__notebook__.ipynb",
   "parameters": {},
   "start_time": "2023-05-01T04:06:10.438104",
   "version": "2.4.0"
  }
 },
 "nbformat": 4,
 "nbformat_minor": 5
}
