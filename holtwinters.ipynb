{
 "cells": [
  {
   "cell_type": "markdown",
   "id": "f27adf5a",
   "metadata": {
    "papermill": {
     "duration": 0.002617,
     "end_time": "2023-05-01T03:54:13.417356",
     "exception": false,
     "start_time": "2023-05-01T03:54:13.414739",
     "status": "completed"
    },
    "tags": []
   },
   "source": [
    "# Holt Winters\n"
   ]
  },
  {
   "cell_type": "code",
   "execution_count": 1,
   "id": "b8dea3b8",
   "metadata": {
    "_cell_guid": "b1076dfc-b9ad-4769-8c92-a6c4dae69d19",
    "_uuid": "8f2839f25d086af736a60e9eeb907d3b93b6e0e5",
    "execution": {
     "iopub.execute_input": "2023-05-01T03:54:13.422888Z",
     "iopub.status.busy": "2023-05-01T03:54:13.422481Z",
     "iopub.status.idle": "2023-05-01T03:54:13.577594Z",
     "shell.execute_reply": "2023-05-01T03:54:13.576349Z"
    },
    "papermill": {
     "duration": 0.161766,
     "end_time": "2023-05-01T03:54:13.580818",
     "exception": false,
     "start_time": "2023-05-01T03:54:13.419052",
     "status": "completed"
    },
    "tags": []
   },
   "outputs": [
    {
     "name": "stdout",
     "output_type": "stream",
     "text": [
      "/kaggle/input/nab/README.md\n",
      "/kaggle/input/nab/realKnownCause/realKnownCause/rogue_agent_key_updown.csv\n",
      "/kaggle/input/nab/realKnownCause/realKnownCause/ec2_request_latency_system_failure.csv\n",
      "/kaggle/input/nab/realKnownCause/realKnownCause/ambient_temperature_system_failure.csv\n",
      "/kaggle/input/nab/realKnownCause/realKnownCause/nyc_taxi.csv\n",
      "/kaggle/input/nab/realKnownCause/realKnownCause/rogue_agent_key_hold.csv\n",
      "/kaggle/input/nab/realKnownCause/realKnownCause/machine_temperature_system_failure.csv\n",
      "/kaggle/input/nab/realKnownCause/realKnownCause/cpu_utilization_asg_misconfiguration.csv\n",
      "/kaggle/input/nab/realTraffic/realTraffic/TravelTime_387.csv\n",
      "/kaggle/input/nab/realTraffic/realTraffic/speed_6005.csv\n",
      "/kaggle/input/nab/realTraffic/realTraffic/speed_t4013.csv\n",
      "/kaggle/input/nab/realTraffic/realTraffic/occupancy_t4013.csv\n",
      "/kaggle/input/nab/realTraffic/realTraffic/speed_7578.csv\n",
      "/kaggle/input/nab/realTraffic/realTraffic/occupancy_6005.csv\n",
      "/kaggle/input/nab/realTraffic/realTraffic/TravelTime_451.csv\n",
      "/kaggle/input/nab/realTraffic/realTraffic/.DS_Store\n",
      "/kaggle/input/nab/realTraffic/__MACOSX/realTraffic/._speed_6005.csv\n",
      "/kaggle/input/nab/realTraffic/__MACOSX/realTraffic/._occupancy_6005.csv\n",
      "/kaggle/input/nab/realTraffic/__MACOSX/realTraffic/._.DS_Store\n",
      "/kaggle/input/nab/artificialNoAnomaly/artificialNoAnomaly/art_daily_no_noise.csv\n",
      "/kaggle/input/nab/artificialNoAnomaly/artificialNoAnomaly/art_noisy.csv\n",
      "/kaggle/input/nab/artificialNoAnomaly/artificialNoAnomaly/art_daily_small_noise.csv\n",
      "/kaggle/input/nab/artificialNoAnomaly/artificialNoAnomaly/art_flatline.csv\n",
      "/kaggle/input/nab/artificialNoAnomaly/artificialNoAnomaly/art_daily_perfect_square_wave.csv\n",
      "/kaggle/input/nab/artificialWithAnomaly/artificialWithAnomaly/art_daily_flatmiddle.csv\n",
      "/kaggle/input/nab/artificialWithAnomaly/artificialWithAnomaly/art_increase_spike_density.csv\n",
      "/kaggle/input/nab/artificialWithAnomaly/artificialWithAnomaly/art_daily_jumpsup.csv\n",
      "/kaggle/input/nab/artificialWithAnomaly/artificialWithAnomaly/art_daily_nojump.csv\n",
      "/kaggle/input/nab/artificialWithAnomaly/artificialWithAnomaly/art_load_balancer_spikes.csv\n",
      "/kaggle/input/nab/artificialWithAnomaly/artificialWithAnomaly/art_daily_jumpsdown.csv\n",
      "/kaggle/input/nab/realAWSCloudwatch/realAWSCloudwatch/elb_request_count_8c0756.csv\n",
      "/kaggle/input/nab/realAWSCloudwatch/realAWSCloudwatch/ec2_cpu_utilization_53ea38.csv\n",
      "/kaggle/input/nab/realAWSCloudwatch/realAWSCloudwatch/iio_us-east-1_i-a2eb1cd9_NetworkIn.csv\n",
      "/kaggle/input/nab/realAWSCloudwatch/realAWSCloudwatch/ec2_cpu_utilization_5f5533.csv\n",
      "/kaggle/input/nab/realAWSCloudwatch/realAWSCloudwatch/ec2_cpu_utilization_ac20cd.csv\n",
      "/kaggle/input/nab/realAWSCloudwatch/realAWSCloudwatch/ec2_cpu_utilization_24ae8d.csv\n",
      "/kaggle/input/nab/realAWSCloudwatch/realAWSCloudwatch/ec2_disk_write_bytes_c0d644.csv\n",
      "/kaggle/input/nab/realAWSCloudwatch/realAWSCloudwatch/ec2_network_in_257a54.csv\n",
      "/kaggle/input/nab/realAWSCloudwatch/realAWSCloudwatch/ec2_cpu_utilization_fe7f93.csv\n",
      "/kaggle/input/nab/realAWSCloudwatch/realAWSCloudwatch/ec2_cpu_utilization_c6585a.csv\n",
      "/kaggle/input/nab/realAWSCloudwatch/realAWSCloudwatch/ec2_disk_write_bytes_1ef3de.csv\n",
      "/kaggle/input/nab/realAWSCloudwatch/realAWSCloudwatch/ec2_cpu_utilization_77c1ca.csv\n",
      "/kaggle/input/nab/realAWSCloudwatch/realAWSCloudwatch/grok_asg_anomaly.csv\n",
      "/kaggle/input/nab/realAWSCloudwatch/realAWSCloudwatch/ec2_network_in_5abac7.csv\n",
      "/kaggle/input/nab/realAWSCloudwatch/realAWSCloudwatch/rds_cpu_utilization_e47b3b.csv\n",
      "/kaggle/input/nab/realAWSCloudwatch/realAWSCloudwatch/rds_cpu_utilization_cc0c53.csv\n",
      "/kaggle/input/nab/realAWSCloudwatch/realAWSCloudwatch/ec2_cpu_utilization_825cc2.csv\n",
      "/kaggle/input/nab/realTweets/realTweets/Twitter_volume_UPS.csv\n",
      "/kaggle/input/nab/realTweets/realTweets/Twitter_volume_CVS.csv\n",
      "/kaggle/input/nab/realTweets/realTweets/Twitter_volume_PFE.csv\n",
      "/kaggle/input/nab/realTweets/realTweets/Twitter_volume_CRM.csv\n",
      "/kaggle/input/nab/realTweets/realTweets/Twitter_volume_AMZN.csv\n",
      "/kaggle/input/nab/realTweets/realTweets/Twitter_volume_KO.csv\n",
      "/kaggle/input/nab/realTweets/realTweets/Twitter_volume_AAPL.csv\n",
      "/kaggle/input/nab/realTweets/realTweets/Twitter_volume_IBM.csv\n",
      "/kaggle/input/nab/realTweets/realTweets/Twitter_volume_FB.csv\n",
      "/kaggle/input/nab/realTweets/realTweets/Twitter_volume_GOOG.csv\n",
      "/kaggle/input/nab/realAdExchange/realAdExchange/exchange-2_cpm_results.csv\n",
      "/kaggle/input/nab/realAdExchange/realAdExchange/exchange-4_cpc_results.csv\n",
      "/kaggle/input/nab/realAdExchange/realAdExchange/exchange-4_cpm_results.csv\n",
      "/kaggle/input/nab/realAdExchange/realAdExchange/exchange-3_cpc_results.csv\n",
      "/kaggle/input/nab/realAdExchange/realAdExchange/exchange-2_cpc_results.csv\n",
      "/kaggle/input/nab/realAdExchange/realAdExchange/exchange-3_cpm_results.csv\n"
     ]
    }
   ],
   "source": [
    "# This Python 3 environment comes with many helpful analytics libraries installed\n",
    "# It is defined by the kaggle/python Docker image: https://github.com/kaggle/docker-python\n",
    "# For example, here's several helpful packages to load\n",
    "\n",
    "import numpy as np # linear algebra\n",
    "import pandas as pd # data processing, CSV file I/O (e.g. pd.read_csv)\n",
    "\n",
    "# Input data files are available in the read-only \"../input/\" directory\n",
    "# For example, running this (by clicking run or pressing Shift+Enter) will list all files under the input directory\n",
    "\n",
    "import os\n",
    "for dirname, _, filenames in os.walk('/kaggle/input'):\n",
    "    for filename in filenames:\n",
    "        print(os.path.join(dirname, filename))\n",
    "\n",
    "# You can write up to 20GB to the current directory (/kaggle/working/) that gets preserved as output when you create a version using \"Save & Run All\" \n",
    "# You can also write temporary files to /kaggle/temp/, but they won't be saved outside of the current session"
   ]
  }
 ],
 "metadata": {
  "kernelspec": {
   "display_name": "Python 3",
   "language": "python",
   "name": "python3"
  },
  "language_info": {
   "codemirror_mode": {
    "name": "ipython",
    "version": 3
   },
   "file_extension": ".py",
   "mimetype": "text/x-python",
   "name": "python",
   "nbconvert_exporter": "python",
   "pygments_lexer": "ipython3",
   "version": "3.7.12"
  },
  "papermill": {
   "default_parameters": {},
   "duration": 11.024765,
   "end_time": "2023-05-01T03:54:14.203765",
   "environment_variables": {},
   "exception": null,
   "input_path": "__notebook__.ipynb",
   "output_path": "__notebook__.ipynb",
   "parameters": {},
   "start_time": "2023-05-01T03:54:03.179000",
   "version": "2.4.0"
  }
 },
 "nbformat": 4,
 "nbformat_minor": 5
}
